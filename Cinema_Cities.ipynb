{
 "cells": [
  {
   "cell_type": "markdown",
   "id": "c39c0299",
   "metadata": {
    "slideshow": {
     "slide_type": "slide"
    }
   },
   "source": [
    "# Cinematic Moving"
   ]
  },
  {
   "cell_type": "markdown",
   "id": "f673d74f",
   "metadata": {
    "slideshow": {
     "slide_type": "slide"
    }
   },
   "source": [
    "## Our client, Augustin B, is interested in moving to a new city!"
   ]
  },
  {
   "cell_type": "markdown",
   "id": "f3b7b0f9",
   "metadata": {
    "slideshow": {
     "slide_type": "slide"
    }
   },
   "source": [
    "## Augustin B has family in Houston, Las Vegas, Los Angeles, Miami, and Phoenix, so that is where we will start our search."
   ]
  },
  {
   "cell_type": "markdown",
   "id": "03e3b318",
   "metadata": {
    "slideshow": {
     "slide_type": "slide"
    }
   },
   "source": [
    "## Augustin B considers himself a bit of a cinephile, so he is interested in moving somewhere that has ample cinemas."
   ]
  },
  {
   "cell_type": "markdown",
   "id": "389555d4",
   "metadata": {
    "slideshow": {
     "slide_type": "slide"
    }
   },
   "source": [
    "## Of the cities he has picked out, Augustin B also would prefer to move somewhere not too humid."
   ]
  },
  {
   "cell_type": "markdown",
   "id": "55746b93",
   "metadata": {
    "slideshow": {
     "slide_type": "slide"
    }
   },
   "source": [
    "## Augustin B, finally, wants to get the general temperature on home prices in these cities to help him make his final decision."
   ]
  },
  {
   "cell_type": "markdown",
   "id": "8b34e3c6",
   "metadata": {
    "slideshow": {
     "slide_type": "slide"
    }
   },
   "source": [
    "## We leveraged Geoapify, OpenWeather, and Zillow-generated CSVs to source the data we would use."
   ]
  },
  {
   "cell_type": "code",
   "execution_count": 1,
   "id": "974ae3ef",
   "metadata": {
    "slideshow": {
     "slide_type": "skip"
    }
   },
   "outputs": [],
   "source": [
    "import json\n",
    "import requests\n",
    "import pandas as pd\n",
    "\n",
    "from config import api_key_2"
   ]
  },
  {
   "cell_type": "markdown",
   "id": "33de6a70",
   "metadata": {
    "slideshow": {
     "slide_type": "slide"
    }
   },
   "source": [
    "## We first started by taking the identified cities and utilizing Geoapify we found how many cinemas were within a 10mi diameter to get a general idea of density."
   ]
  },
  {
   "cell_type": "code",
   "execution_count": 2,
   "id": "629a2909",
   "metadata": {
    "slideshow": {
     "slide_type": "slide"
    }
   },
   "outputs": [],
   "source": [
    "target_city_1 = 'Houston, United States'\n",
    "target_city_2 = 'Las Vegas, United States'\n",
    "target_city_3 = 'Los Angeles, United States'\n",
    "target_city_4 = 'Miami, United States'\n",
    "target_city_5 = 'Phoenix, United States'\n",
    "#miami, las vegas, houston, pheonix, LA\n",
    "\n",
    "# endpoint URL\n",
    "target_url_1 = f\"https://api.geoapify.com/v1/geocode/search?text={target_city_1}&format=json&apiKey={api_key_2}\"\n",
    "target_url_2 = f\"https://api.geoapify.com/v1/geocode/search?text={target_city_2}&format=json&apiKey={api_key_2}\"\n",
    "target_url_3 = f\"https://api.geoapify.com/v1/geocode/search?text={target_city_3}&format=json&apiKey={api_key_2}\"\n",
    "target_url_4 = f\"https://api.geoapify.com/v1/geocode/search?text={target_city_4}&format=json&apiKey={api_key_2}\"\n",
    "target_url_5 = f\"https://api.geoapify.com/v1/geocode/search?text={target_city_5}&format=json&apiKey={api_key_2}\""
   ]
  },
  {
   "cell_type": "code",
   "execution_count": 3,
   "id": "5ff42e55",
   "metadata": {
    "slideshow": {
     "slide_type": "slide"
    }
   },
   "outputs": [],
   "source": [
    "#json with the data of the cities we want to investigate\n",
    "\n",
    "geo_data_1 = requests.get(target_url_1).json()\n",
    "geo_data_2 = requests.get(target_url_2).json()\n",
    "geo_data_3 = requests.get(target_url_3).json()\n",
    "geo_data_4 = requests.get(target_url_4).json()\n",
    "geo_data_5 = requests.get(target_url_5).json()\n"
   ]
  },
  {
   "cell_type": "code",
   "execution_count": 4,
   "id": "61c8633c",
   "metadata": {
    "slideshow": {
     "slide_type": "slide"
    }
   },
   "outputs": [
    {
     "name": "stdout",
     "output_type": "stream",
     "text": [
      "\n",
      "    City: Houston, United States\n",
      "    Latitude: 29.7589382\n",
      "    Longitude: -95.3676974\n",
      "    \n",
      "\n",
      "    City: Las Vegas, United States\n",
      "    Latitude: 36.1672559\n",
      "    Longitude: -115.148516\n",
      "    \n",
      "\n",
      "    City: Los Angeles, United States\n",
      "    Latitude: 34.0536909\n",
      "    Longitude: -118.242766\n",
      "    \n",
      "\n",
      "    City: Miami, United States\n",
      "    Latitude: 25.7741728\n",
      "    Longitude: -80.19362\n",
      "    \n",
      "\n",
      "    City: Phoenix, United States\n",
      "    Latitude: 33.4484367\n",
      "    Longitude: -112.074141\n",
      "    \n"
     ]
    }
   ],
   "source": [
    "#generating lat/lon to be used again later\n",
    "\n",
    "lat1 = geo_data_1[\"results\"][0][\"lat\"]\n",
    "lon1 = geo_data_1[\"results\"][0][\"lon\"]\n",
    "\n",
    "lat2 = geo_data_2[\"results\"][0][\"lat\"]\n",
    "lon2 = geo_data_2[\"results\"][0][\"lon\"]\n",
    "\n",
    "lat3 = geo_data_3[\"results\"][0][\"lat\"]\n",
    "lon3 = geo_data_3[\"results\"][0][\"lon\"]\n",
    "\n",
    "lat4 = geo_data_4[\"results\"][0][\"lat\"]\n",
    "lon4 = geo_data_4[\"results\"][0][\"lon\"]\n",
    "\n",
    "lat5 = geo_data_5[\"results\"][0][\"lat\"]\n",
    "lon5 = geo_data_5[\"results\"][0][\"lon\"]\n",
    "\n",
    "# Print the latitude and longitude\n",
    "print('''\n",
    "    City: {0}\n",
    "    Latitude: {1}\n",
    "    Longitude: {2}\n",
    "    '''.format(target_city_1, lat1, lon1))\n",
    "\n",
    "print('''\n",
    "    City: {0}\n",
    "    Latitude: {1}\n",
    "    Longitude: {2}\n",
    "    '''.format(target_city_2, lat2, lon2))\n",
    "\n",
    "print('''\n",
    "    City: {0}\n",
    "    Latitude: {1}\n",
    "    Longitude: {2}\n",
    "    '''.format(target_city_3, lat3, lon3))\n",
    "\n",
    "print('''\n",
    "    City: {0}\n",
    "    Latitude: {1}\n",
    "    Longitude: {2}\n",
    "    '''.format(target_city_4, lat4, lon4))\n",
    "\n",
    "print('''\n",
    "    City: {0}\n",
    "    Latitude: {1}\n",
    "    Longitude: {2}\n",
    "    '''.format(target_city_5, lat5, lon5))"
   ]
  },
  {
   "cell_type": "code",
   "execution_count": 10,
   "id": "a1821601",
   "metadata": {
    "slideshow": {
     "slide_type": "slide"
    }
   },
   "outputs": [
    {
     "name": "stdout",
     "output_type": "stream",
     "text": [
      "{\n",
      "    \"features\": [\n",
      "        {\n",
      "            \"geometry\": {\n",
      "                \"coordinates\": [\n",
      "                    -112.06933428232264,\n",
      "                    33.45379438616213\n",
      "                ],\n",
      "                \"type\": \"Point\"\n",
      "            },\n",
      "            \"properties\": {\n",
      "                \"address_line1\": \"AMC Arizona Center 24\",\n",
      "                \"address_line2\": \"465 North 3rd Street, Phoenix, AZ 85004, United States of America\",\n",
      "                \"categories\": [\n",
      "                    \"building\",\n",
      "                    \"building.entertainment\",\n",
      "                    \"entertainment\",\n",
      "                    \"entertainment.cinema\"\n",
      "                ],\n",
      "                \"city\": \"Phoenix\",\n",
      "                \"country\": \"United States\",\n",
      "                \"country_code\": \"us\",\n",
      "                \"county\": \"Maricopa County\",\n",
      "                \"datasource\": {\n",
      "                    \"attribution\": \"\\u00a9 OpenStreetMap contributors\",\n",
      "                    \"license\": \"Open Database Licence\",\n",
      "                    \"raw\": {\n",
      "                        \"addr:city\": \"Phoenix\",\n",
      "                        \"addr:housenumber\": 465,\n",
      "                        \"addr:postcode\": 85004,\n",
      "                        \"addr:state\": \"AZ\",\n",
      "                        \"addr:street\": \"North 3rd Street\",\n",
      "                        \"amenity\": \"cinema\",\n",
      "                        \"brand\": \"AMC\",\n",
      "                        \"brand:wikidata\": \"Q294721\",\n",
      "                        \"brand:wikipedia\": \"en:AMC Theatres\",\n",
      "                        \"building\": \"yes\",\n",
      "                        \"name\": \"AMC Arizona Center 24\",\n",
      "                        \"osm_id\": 109835095,\n",
      "                        \"osm_type\": \"w\",\n",
      "                        \"screen\": 24,\n",
      "                        \"website\": \"https://www.amctheatres.com/movie-theatres/phoenix/amc-arizona-center-24\",\n",
      "                        \"wikidata\": \"Q42311304\"\n",
      "                    },\n",
      "                    \"sourcename\": \"openstreetmap\",\n",
      "                    \"url\": \"https://www.openstreetmap.org/copyright\"\n",
      "                },\n",
      "                \"details\": [\n",
      "                    \"details\",\n",
      "                    \"details.wiki_and_media\"\n",
      "                ],\n",
      "                \"distance\": 677,\n",
      "                \"formatted\": \"AMC Arizona Center 24, 465 North 3rd Street, Phoenix, AZ 85004, United States of America\",\n",
      "                \"housenumber\": \"465\",\n",
      "                \"lat\": 33.453702199999995,\n",
      "                \"lon\": -112.06931701373344,\n",
      "                \"name\": \"AMC Arizona Center 24\",\n",
      "                \"place_id\": \"5150c40ef96f045cc0595ed637ef15ba4040f00102f90157f38b0600000000920315414d43204172697a6f6e612043656e746572203234\",\n",
      "                \"postcode\": \"85004\",\n",
      "                \"state\": \"Arizona\",\n",
      "                \"state_code\": \"AZ\",\n",
      "                \"street\": \"North 3rd Street\"\n",
      "            },\n",
      "            \"type\": \"Feature\"\n",
      "        },\n",
      "        {\n",
      "            \"geometry\": {\n",
      "                \"coordinates\": [\n",
      "                    -112.06630627894825,\n",
      "                    33.44861207611375\n",
      "                ],\n",
      "                \"type\": \"Point\"\n",
      "            },\n",
      "            \"properties\": {\n",
      "                \"address_line1\": \"Irene P. Flynn Theater\",\n",
      "                \"address_line2\": \"East Washington Street, Phoenix, AZ 85004, United States of America\",\n",
      "                \"categories\": [\n",
      "                    \"entertainment\",\n",
      "                    \"entertainment.cinema\"\n",
      "                ],\n",
      "                \"city\": \"Phoenix\",\n",
      "                \"country\": \"United States\",\n",
      "                \"country_code\": \"us\",\n",
      "                \"county\": \"Maricopa County\",\n",
      "                \"datasource\": {\n",
      "                    \"attribution\": \"\\u00a9 OpenStreetMap contributors\",\n",
      "                    \"license\": \"Open Database Licence\",\n",
      "                    \"raw\": {\n",
      "                        \"amenity\": \"cinema\",\n",
      "                        \"indoor\": \"room\",\n",
      "                        \"name\": \"Irene P. Flynn Theater\",\n",
      "                        \"osm_id\": 783490437,\n",
      "                        \"osm_type\": \"w\",\n",
      "                        \"website\": \"https://www.azscience.org/attractions/irene-p-flinn-theater/\",\n",
      "                        \"wikidata\": \"Q88231458\"\n",
      "                    },\n",
      "                    \"sourcename\": \"openstreetmap\",\n",
      "                    \"url\": \"https://www.openstreetmap.org/copyright\"\n",
      "                },\n",
      "                \"details\": [\n",
      "                    \"details\",\n",
      "                    \"details.wiki_and_media\"\n",
      "                ],\n",
      "                \"distance\": 713,\n",
      "                \"formatted\": \"Irene P. Flynn Theater, East Washington Street, Phoenix, AZ 85004, United States of America\",\n",
      "                \"lat\": 33.448638599999995,\n",
      "                \"lon\": -112.06630271151413,\n",
      "                \"name\": \"Irene P. Flynn Theater\",\n",
      "                \"place_id\": \"518ae6b05c3e045cc059e6bfd91e6cb94040f00102f901851db32e000000009203164972656e6520502e20466c796e6e2054686561746572\",\n",
      "                \"postcode\": \"85004\",\n",
      "                \"state\": \"Arizona\",\n",
      "                \"state_code\": \"AZ\",\n",
      "                \"street\": \"East Washington Street\"\n",
      "            },\n",
      "            \"type\": \"Feature\"\n",
      "        },\n",
      "        {\n",
      "            \"geometry\": {\n",
      "                \"coordinates\": [\n",
      "                    -112.02758953089752,\n",
      "                    33.50811953927324\n",
      "                ],\n",
      "                \"type\": \"Point\"\n",
      "            },\n",
      "            \"properties\": {\n",
      "                \"address_line1\": \"AMC DINE-IN Esplanade 14\",\n",
      "                \"address_line2\": \"East Esplanade Lane, Phoenix, AZ 85016, United States of America\",\n",
      "                \"categories\": [\n",
      "                    \"building\",\n",
      "                    \"building.entertainment\",\n",
      "                    \"entertainment\",\n",
      "                    \"entertainment.cinema\"\n",
      "                ],\n",
      "                \"city\": \"Phoenix\",\n",
      "                \"country\": \"United States\",\n",
      "                \"country_code\": \"us\",\n",
      "                \"county\": \"Maricopa County\",\n",
      "                \"datasource\": {\n",
      "                    \"attribution\": \"\\u00a9 OpenStreetMap contributors\",\n",
      "                    \"license\": \"Open Database Licence\",\n",
      "                    \"raw\": {\n",
      "                        \"amenity\": \"cinema\",\n",
      "                        \"brand\": \"AMC\",\n",
      "                        \"brand:wikidata\": \"Q294721\",\n",
      "                        \"brand:wikipedia\": \"en:AMC Theatres\",\n",
      "                        \"building\": \"yes\",\n",
      "                        \"name\": \"AMC DINE-IN Esplanade 14\",\n",
      "                        \"osm_id\": 66584777,\n",
      "                        \"osm_type\": \"w\",\n",
      "                        \"screen\": 14,\n",
      "                        \"website\": \"https://www.amctheatres.com/movie-theatres/phoenix/amc-dine-in-esplanade-14\",\n",
      "                        \"wikidata\": \"Q42311300\"\n",
      "                    },\n",
      "                    \"sourcename\": \"openstreetmap\",\n",
      "                    \"url\": \"https://www.openstreetmap.org/copyright\"\n",
      "                },\n",
      "                \"details\": [\n",
      "                    \"details\",\n",
      "                    \"details.wiki_and_media\"\n",
      "                ],\n",
      "                \"distance\": 7861,\n",
      "                \"district\": \"Biltmore Villas\",\n",
      "                \"formatted\": \"AMC DINE-IN Esplanade 14, East Esplanade Lane, Phoenix, AZ 85016, United States of America\",\n",
      "                \"lat\": 33.508091050000004,\n",
      "                \"lon\": -112.0275870016065,\n",
      "                \"name\": \"AMC DINE-IN Esplanade 14\",\n",
      "                \"place_id\": \"51ad3ae106c4015cc0598ed1a10f0ac14040f00102f901c900f80300000000920318414d432044494e452d494e204573706c616e616465203134\",\n",
      "                \"postcode\": \"85016\",\n",
      "                \"state\": \"Arizona\",\n",
      "                \"state_code\": \"AZ\",\n",
      "                \"street\": \"East Esplanade Lane\"\n",
      "            },\n",
      "            \"type\": \"Feature\"\n",
      "        }\n",
      "    ],\n",
      "    \"type\": \"FeatureCollection\"\n",
      "}\n"
     ]
    }
   ],
   "source": [
    "#this was the code to search Phoenix, for example\n",
    "\n",
    "latitude = 33.4484367\n",
    "longitude = -112.074141\n",
    "\n",
    "categories = \"entertainment.cinema\"\n",
    "\n",
    "radius = 8000\n",
    "\n",
    "filters = f\"circle:{longitude},{latitude},{radius}\"\n",
    "bias = f\"proximity:{longitude},{latitude}\"\n",
    "limit = 50\n",
    "\n",
    "params = {\n",
    "    \"categories\":categories,\n",
    "    \"limit\":limit,\n",
    "    \"filter\":filters,\n",
    "    \"bias\":bias,\n",
    "    \"apiKey\":api_key_2    \n",
    "}\n",
    "\n",
    "# Set base URL\n",
    "base_url = \"https://api.geoapify.com/v2/places\"\n",
    "\n",
    "# run a request using our params dictionary\n",
    "response = requests.get(base_url, params=params)\n",
    "\n",
    "# convert response to json\n",
    "places_data = response.json()\n",
    "\n",
    "# Print the json (pretty printed)\n",
    "print(json.dumps(places_data, indent=4, sort_keys=True))"
   ]
  },
  {
   "cell_type": "markdown",
   "id": "c1448d4a",
   "metadata": {
    "slideshow": {
     "slide_type": "slide"
    }
   },
   "source": [
    "## Houston returned 5 within that radius\n",
    "## Las Vegas returned 8 within that radius\n",
    "## Los Angeles returned 12 within that radius\n",
    "## Miami returned 8 within that radius\n",
    "## Phoenix returned 3 within that radius"
   ]
  },
  {
   "cell_type": "markdown",
   "id": "adcf55cc",
   "metadata": {
    "slideshow": {
     "slide_type": "slide"
    }
   },
   "source": [
    "## Of the cities we looked at, seems the city most dense with cinemas is Los Angeles, with Las Vegas and Miami in second, then Houston, and, in last place, Phoenix."
   ]
  },
  {
   "cell_type": "markdown",
   "id": "ac0f5654",
   "metadata": {
    "slideshow": {
     "slide_type": "slide"
    }
   },
   "source": [
    "## So far, this would imply Augustin B's top choice would be Los Angeles, but let's look at the results of his other preferences and see if that changes the shape of things."
   ]
  },
  {
   "cell_type": "code",
   "execution_count": null,
   "id": "0a794f93",
   "metadata": {
    "slideshow": {
     "slide_type": "skip"
    }
   },
   "outputs": [],
   "source": [
    "#City: Los Angeles, United States\n",
    " #   Latitude: 34.0536909\n",
    "  #  Longitude: -118.242766\n",
    "        \n",
    "#City: Las Vegas, United States\n",
    " #   Latitude: 36.1672559\n",
    "  #  Longitude: -115.148516\n",
    "        \n",
    "#City: Miami, United States\n",
    " #   Latitude: 25.7741728\n",
    "  #  Longitude: -80.19362\n",
    "        \n",
    "#City: Houston, United States\n",
    " #   Latitude: 29.7589382\n",
    "  #  Longitude: -95.3676974\n",
    "        \n",
    "#City: Phoenix, United States\n",
    " #   Latitude: 33.4484367\n",
    "  #  Longitude: -112.074141"
   ]
  }
 ],
 "metadata": {
  "celltoolbar": "Slideshow",
  "kernelspec": {
   "display_name": "Python 3 (ipykernel)",
   "language": "python",
   "name": "python3"
  },
  "language_info": {
   "codemirror_mode": {
    "name": "ipython",
    "version": 3
   },
   "file_extension": ".py",
   "mimetype": "text/x-python",
   "name": "python",
   "nbconvert_exporter": "python",
   "pygments_lexer": "ipython3",
   "version": "3.10.10"
  }
 },
 "nbformat": 4,
 "nbformat_minor": 5
}
